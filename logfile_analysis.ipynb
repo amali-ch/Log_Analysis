{
  "nbformat": 4,
  "nbformat_minor": 0,
  "metadata": {
    "colab": {
      "name": "logfile analysis.ipynb",
      "provenance": []
    },
    "kernelspec": {
      "name": "python3",
      "display_name": "Python 3"
    },
    "language_info": {
      "name": "python"
    }
  },
  "cells": [
    {
      "cell_type": "markdown",
      "metadata": {
        "id": "9cQnI87kCP8S"
      },
      "source": [
        "                       **LogFile Analysis**\n",
        "\n",
        "> sample document logfile.txt\n",
        "https://drive.google.com/drive/folders/1KF1UwyfwiCt0aHJ08uRQnqrhdy3lxyyc?usp=sharing\n",
        "\n"
      ]
    },
    {
      "cell_type": "code",
      "metadata": {
        "id": "9-xaM0ITxBoN"
      },
      "source": [
        "d=open('/content/logfile.txt')"
      ],
      "execution_count": 20,
      "outputs": []
    },
    {
      "cell_type": "markdown",
      "metadata": {
        "id": "URysPVRyyDx7"
      },
      "source": [
        "readlines( ) and read().spiltlines() both return a list\n",
        "\n",
        "readlines() is followed by a \\n\n",
        "read().splitlines() will not have \\n at the end"
      ]
    },
    {
      "cell_type": "code",
      "metadata": {
        "id": "NCJJeiJ20rEr",
        "colab": {
          "base_uri": "https://localhost:8080/"
        },
        "outputId": "6794e31f-0a2f-4d37-c64b-658969724e19"
      },
      "source": [
        "type(d)"
      ],
      "execution_count": 21,
      "outputs": [
        {
          "output_type": "execute_result",
          "data": {
            "text/plain": [
              "_io.TextIOWrapper"
            ]
          },
          "metadata": {
            "tags": []
          },
          "execution_count": 21
        }
      ]
    },
    {
      "cell_type": "code",
      "metadata": {
        "id": "himlDaI73QLL",
        "colab": {
          "base_uri": "https://localhost:8080/"
        },
        "outputId": "baa4e62b-9e14-49e2-e5af-910b2721d825"
      },
      "source": [
        "import re\n",
        "b=\"codegnan is in vijayawada\"\n",
        "n=re.split('n',b)#where ever we have n it is replacing with b\n",
        "print(n)"
      ],
      "execution_count": 22,
      "outputs": [
        {
          "output_type": "stream",
          "text": [
            "['codeg', 'a', ' is i', ' vijayawada']\n"
          ],
          "name": "stdout"
        }
      ]
    },
    {
      "cell_type": "code",
      "metadata": {
        "id": "-t-OBzLnzBmE"
      },
      "source": [
        "import re #regular exp\n",
        "import csv #coma sep values -->takes less memory\n",
        "import os\n",
        "c=[]\n",
        "b=[\"ip\",\"time stamp\",\"timezone\",\"request\",\"slash\",\"http\",\"status\"]\n",
        "with open('logfile.txt') as f:\n",
        "  lines=f.read().splitlines() #lines is a list\n",
        "  for line in lines: #as line is list so i can use for\n",
        "    line=line.replace(\",\",\"\")\n",
        "    line=line.replace(\"[\",\"\")\n",
        "    line=line.replace(\"]\",\"\")\n",
        "    line=line.replace('\"','')\n",
        "    line=line.replace('-','')\n",
        "    a=re.split('\\s+',line)[:7]\n",
        "    c.append(a)\n"
      ],
      "execution_count": 23,
      "outputs": []
    },
    {
      "cell_type": "code",
      "metadata": {
        "id": "nlN2B8rB0c7q"
      },
      "source": [
        "with open('logfile.csv','w') as f:\n",
        "  #csv.writer to write data into the file logfile.csv\n",
        "  write=csv.writer(f)#just tells into which file the text should be written\n",
        "  #writerow(),writerows() write data to csv file\n",
        "  write.writerow(b)\n",
        "  write.writerows(c)\n"
      ],
      "execution_count": 24,
      "outputs": []
    },
    {
      "cell_type": "code",
      "metadata": {
        "id": "c3O2nXxA33jY"
      },
      "source": [
        "import pandas as pd\n",
        "data=pd.read_csv('logfile.csv')"
      ],
      "execution_count": 25,
      "outputs": []
    },
    {
      "cell_type": "code",
      "metadata": {
        "id": "YKy8N9Ik6Uqt",
        "colab": {
          "base_uri": "https://localhost:8080/",
          "height": 362
        },
        "outputId": "7d667021-e617-4e1d-df87-db1c93e84356"
      },
      "source": [
        "data.head(10)"
      ],
      "execution_count": 26,
      "outputs": [
        {
          "output_type": "execute_result",
          "data": {
            "text/html": [
              "<div>\n",
              "<style scoped>\n",
              "    .dataframe tbody tr th:only-of-type {\n",
              "        vertical-align: middle;\n",
              "    }\n",
              "\n",
              "    .dataframe tbody tr th {\n",
              "        vertical-align: top;\n",
              "    }\n",
              "\n",
              "    .dataframe thead th {\n",
              "        text-align: right;\n",
              "    }\n",
              "</style>\n",
              "<table border=\"1\" class=\"dataframe\">\n",
              "  <thead>\n",
              "    <tr style=\"text-align: right;\">\n",
              "      <th></th>\n",
              "      <th>ip</th>\n",
              "      <th>time stamp</th>\n",
              "      <th>timezone</th>\n",
              "      <th>request</th>\n",
              "      <th>slash</th>\n",
              "      <th>http</th>\n",
              "      <th>status</th>\n",
              "    </tr>\n",
              "  </thead>\n",
              "  <tbody>\n",
              "    <tr>\n",
              "      <th>0</th>\n",
              "      <td>103.44.12.218</td>\n",
              "      <td>19/Mar/2021:14:27:44</td>\n",
              "      <td>0</td>\n",
              "      <td>POST</td>\n",
              "      <td>/exam/168/check/1/6/16/16/</td>\n",
              "      <td>HTTP/1.1</td>\n",
              "      <td>200.0</td>\n",
              "    </tr>\n",
              "    <tr>\n",
              "      <th>1</th>\n",
              "      <td>103.44.12.218</td>\n",
              "      <td>19/Mar/2021:14:27:44</td>\n",
              "      <td>0</td>\n",
              "      <td>GET</td>\n",
              "      <td>/exam/login/?next=/exam/167/check/1/6/16/16/</td>\n",
              "      <td>HTTP/1.1</td>\n",
              "      <td>200.0</td>\n",
              "    </tr>\n",
              "    <tr>\n",
              "      <th>2</th>\n",
              "      <td>103.44.12.218</td>\n",
              "      <td>19/Mar/2021:14:27:44</td>\n",
              "      <td>0</td>\n",
              "      <td>POST</td>\n",
              "      <td>/exam/168/check/1/6/16/16/</td>\n",
              "      <td>HTTP/1.1</td>\n",
              "      <td>200.0</td>\n",
              "    </tr>\n",
              "    <tr>\n",
              "      <th>3</th>\n",
              "      <td>103.44.12.218</td>\n",
              "      <td>19/Mar/2021:14:27:45</td>\n",
              "      <td>0</td>\n",
              "      <td>POST</td>\n",
              "      <td>/exam/168/check/1/6/16/16/</td>\n",
              "      <td>HTTP/1.1</td>\n",
              "      <td>200.0</td>\n",
              "    </tr>\n",
              "    <tr>\n",
              "      <th>4</th>\n",
              "      <td>103.44.12.218</td>\n",
              "      <td>19/Mar/2021:14:27:45</td>\n",
              "      <td>0</td>\n",
              "      <td>POST</td>\n",
              "      <td>/exam/169/check/1/6/16/16/</td>\n",
              "      <td>HTTP/1.1</td>\n",
              "      <td>200.0</td>\n",
              "    </tr>\n",
              "    <tr>\n",
              "      <th>5</th>\n",
              "      <td>103.44.12.218</td>\n",
              "      <td>19/Mar/2021:14:27:45</td>\n",
              "      <td>0</td>\n",
              "      <td>POST</td>\n",
              "      <td>/exam/164/check/1/6/16/16/</td>\n",
              "      <td>HTTP/1.1</td>\n",
              "      <td>200.0</td>\n",
              "    </tr>\n",
              "    <tr>\n",
              "      <th>6</th>\n",
              "      <td>103.44.12.218</td>\n",
              "      <td>19/Mar/2021:14:27:45</td>\n",
              "      <td>0</td>\n",
              "      <td>POST</td>\n",
              "      <td>/exam/165/check/1/6/16/16/</td>\n",
              "      <td>HTTP/1.1</td>\n",
              "      <td>200.0</td>\n",
              "    </tr>\n",
              "    <tr>\n",
              "      <th>7</th>\n",
              "      <td>103.44.12.218</td>\n",
              "      <td>19/Mar/2021:14:27:45</td>\n",
              "      <td>0</td>\n",
              "      <td>POST</td>\n",
              "      <td>/exam/168/check/1/6/16/16/</td>\n",
              "      <td>HTTP/1.1</td>\n",
              "      <td>200.0</td>\n",
              "    </tr>\n",
              "    <tr>\n",
              "      <th>8</th>\n",
              "      <td>103.44.12.218</td>\n",
              "      <td>19/Mar/2021:14:27:45</td>\n",
              "      <td>0</td>\n",
              "      <td>POST</td>\n",
              "      <td>/exam/163/check/1/6/16/16/</td>\n",
              "      <td>HTTP/1.1</td>\n",
              "      <td>200.0</td>\n",
              "    </tr>\n",
              "    <tr>\n",
              "      <th>9</th>\n",
              "      <td>103.44.12.218</td>\n",
              "      <td>19/Mar/2021:14:27:45</td>\n",
              "      <td>0</td>\n",
              "      <td>POST</td>\n",
              "      <td>/exam/163/check/1/6/16/16/</td>\n",
              "      <td>HTTP/1.1</td>\n",
              "      <td>200.0</td>\n",
              "    </tr>\n",
              "  </tbody>\n",
              "</table>\n",
              "</div>"
            ],
            "text/plain": [
              "              ip            time stamp  ...      http status\n",
              "0  103.44.12.218  19/Mar/2021:14:27:44  ...  HTTP/1.1  200.0\n",
              "1  103.44.12.218  19/Mar/2021:14:27:44  ...  HTTP/1.1  200.0\n",
              "2  103.44.12.218  19/Mar/2021:14:27:44  ...  HTTP/1.1  200.0\n",
              "3  103.44.12.218  19/Mar/2021:14:27:45  ...  HTTP/1.1  200.0\n",
              "4  103.44.12.218  19/Mar/2021:14:27:45  ...  HTTP/1.1  200.0\n",
              "5  103.44.12.218  19/Mar/2021:14:27:45  ...  HTTP/1.1  200.0\n",
              "6  103.44.12.218  19/Mar/2021:14:27:45  ...  HTTP/1.1  200.0\n",
              "7  103.44.12.218  19/Mar/2021:14:27:45  ...  HTTP/1.1  200.0\n",
              "8  103.44.12.218  19/Mar/2021:14:27:45  ...  HTTP/1.1  200.0\n",
              "9  103.44.12.218  19/Mar/2021:14:27:45  ...  HTTP/1.1  200.0\n",
              "\n",
              "[10 rows x 7 columns]"
            ]
          },
          "metadata": {
            "tags": []
          },
          "execution_count": 26
        }
      ]
    },
    {
      "cell_type": "code",
      "metadata": {
        "id": "cLWJAYIx7U0m",
        "colab": {
          "base_uri": "https://localhost:8080/"
        },
        "outputId": "507d366b-35c5-48d0-ea4c-bd957d138134"
      },
      "source": [
        "#to get the count of missing values in a dataframe\n",
        "data.isnull().sum()"
      ],
      "execution_count": 27,
      "outputs": [
        {
          "output_type": "execute_result",
          "data": {
            "text/plain": [
              "ip            0\n",
              "time stamp    0\n",
              "timezone      0\n",
              "request       0\n",
              "slash         0\n",
              "http          9\n",
              "status        9\n",
              "dtype: int64"
            ]
          },
          "metadata": {
            "tags": []
          },
          "execution_count": 27
        }
      ]
    },
    {
      "cell_type": "code",
      "metadata": {
        "id": "bF510SZf7-FM",
        "colab": {
          "base_uri": "https://localhost:8080/"
        },
        "outputId": "da000e5c-aba1-489f-cc24-617bf68538a3"
      },
      "source": [
        "#to get the info about the dataframe\n",
        "data.info()"
      ],
      "execution_count": 28,
      "outputs": [
        {
          "output_type": "stream",
          "text": [
            "<class 'pandas.core.frame.DataFrame'>\n",
            "RangeIndex: 5183 entries, 0 to 5182\n",
            "Data columns (total 7 columns):\n",
            " #   Column      Non-Null Count  Dtype  \n",
            "---  ------      --------------  -----  \n",
            " 0   ip          5183 non-null   object \n",
            " 1   time stamp  5183 non-null   object \n",
            " 2   timezone    5183 non-null   int64  \n",
            " 3   request     5183 non-null   object \n",
            " 4   slash       5183 non-null   object \n",
            " 5   http        5174 non-null   object \n",
            " 6   status      5174 non-null   float64\n",
            "dtypes: float64(1), int64(1), object(5)\n",
            "memory usage: 283.6+ KB\n"
          ],
          "name": "stdout"
        }
      ]
    },
    {
      "cell_type": "code",
      "metadata": {
        "id": "-VyMG0O_8PRx"
      },
      "source": [
        "#to remove null\n",
        "data.dropna(inplace=True) "
      ],
      "execution_count": 29,
      "outputs": []
    },
    {
      "cell_type": "code",
      "metadata": {
        "id": "3DoiIPOD8u5C",
        "colab": {
          "base_uri": "https://localhost:8080/"
        },
        "outputId": "3ba217b7-683b-4cb1-d0fc-925d03bd2764"
      },
      "source": [
        "data.isnull().sum()"
      ],
      "execution_count": 30,
      "outputs": [
        {
          "output_type": "execute_result",
          "data": {
            "text/plain": [
              "ip            0\n",
              "time stamp    0\n",
              "timezone      0\n",
              "request       0\n",
              "slash         0\n",
              "http          0\n",
              "status        0\n",
              "dtype: int64"
            ]
          },
          "metadata": {
            "tags": []
          },
          "execution_count": 30
        }
      ]
    },
    {
      "cell_type": "code",
      "metadata": {
        "id": "HEsUZXpt8_sX"
      },
      "source": [
        "#convert status into int and timestamp into\n",
        "data['status']=data['status'].astype(int)\n"
      ],
      "execution_count": 31,
      "outputs": []
    },
    {
      "cell_type": "code",
      "metadata": {
        "id": "67Ck0yxt9ZKj",
        "colab": {
          "base_uri": "https://localhost:8080/"
        },
        "outputId": "f53c611b-f50a-4478-cb53-dba0ef56ba62"
      },
      "source": [
        "data['status'].tail(10)"
      ],
      "execution_count": 32,
      "outputs": [
        {
          "output_type": "execute_result",
          "data": {
            "text/plain": [
              "5173    200\n",
              "5174    200\n",
              "5175    200\n",
              "5176    200\n",
              "5177    200\n",
              "5178    302\n",
              "5179    200\n",
              "5180    200\n",
              "5181    200\n",
              "5182    200\n",
              "Name: status, dtype: int64"
            ]
          },
          "metadata": {
            "tags": []
          },
          "execution_count": 32
        }
      ]
    },
    {
      "cell_type": "code",
      "metadata": {
        "id": "KIwEtyyB9pox"
      },
      "source": [
        "data['time stamp']=pd.to_datetime(data['time stamp'],format='%d/%b/%Y:%H:%M:%S')"
      ],
      "execution_count": 33,
      "outputs": []
    },
    {
      "cell_type": "code",
      "metadata": {
        "id": "XNqmvL6M-oRl",
        "colab": {
          "base_uri": "https://localhost:8080/"
        },
        "outputId": "1dc90a2e-d92f-49fb-c543-144b4eae3968"
      },
      "source": [
        "data['time stamp'].head(20)"
      ],
      "execution_count": 34,
      "outputs": [
        {
          "output_type": "execute_result",
          "data": {
            "text/plain": [
              "0    2021-03-19 14:27:44\n",
              "1    2021-03-19 14:27:44\n",
              "2    2021-03-19 14:27:44\n",
              "3    2021-03-19 14:27:45\n",
              "4    2021-03-19 14:27:45\n",
              "5    2021-03-19 14:27:45\n",
              "6    2021-03-19 14:27:45\n",
              "7    2021-03-19 14:27:45\n",
              "8    2021-03-19 14:27:45\n",
              "9    2021-03-19 14:27:45\n",
              "10   2021-03-19 14:27:45\n",
              "11   2021-03-19 14:27:45\n",
              "12   2021-03-19 14:27:45\n",
              "13   2021-03-19 14:27:45\n",
              "14   2021-03-19 14:27:45\n",
              "15   2021-03-19 14:27:46\n",
              "16   2021-03-19 14:27:46\n",
              "17   2021-03-19 14:27:46\n",
              "18   2021-03-19 14:27:46\n",
              "19   2021-03-19 14:27:46\n",
              "Name: time stamp, dtype: datetime64[ns]"
            ]
          },
          "metadata": {
            "tags": []
          },
          "execution_count": 34
        }
      ]
    },
    {
      "cell_type": "code",
      "metadata": {
        "id": "Nocr_nDd-10Z",
        "colab": {
          "base_uri": "https://localhost:8080/"
        },
        "outputId": "97782d3f-4a27-41f5-b5a8-aa44c495bde7"
      },
      "source": [
        "data['status'].value_counts()#to get each type occurence"
      ],
      "execution_count": 35,
      "outputs": [
        {
          "output_type": "execute_result",
          "data": {
            "text/plain": [
              "200    3724\n",
              "404     534\n",
              "403     450\n",
              "302     243\n",
              "500     175\n",
              "499      42\n",
              "182       2\n",
              "400       2\n",
              "405       1\n",
              "301       1\n",
              "Name: status, dtype: int64"
            ]
          },
          "metadata": {
            "tags": []
          },
          "execution_count": 35
        }
      ]
    },
    {
      "cell_type": "code",
      "metadata": {
        "id": "8bxfJb2C_6jE",
        "colab": {
          "base_uri": "https://localhost:8080/",
          "height": 362
        },
        "outputId": "327a8654-4c1a-44ad-e4a5-9b1acef53c23"
      },
      "source": [
        "#concat function--> concatinate panda funs \n",
        "pd.concat([data['status'].value_counts().rename('count'),\n",
        "          data['status'].value_counts(normalize=True).mul(100).rename('percentage status')],\n",
        "          axis=1)"
      ],
      "execution_count": 36,
      "outputs": [
        {
          "output_type": "execute_result",
          "data": {
            "text/html": [
              "<div>\n",
              "<style scoped>\n",
              "    .dataframe tbody tr th:only-of-type {\n",
              "        vertical-align: middle;\n",
              "    }\n",
              "\n",
              "    .dataframe tbody tr th {\n",
              "        vertical-align: top;\n",
              "    }\n",
              "\n",
              "    .dataframe thead th {\n",
              "        text-align: right;\n",
              "    }\n",
              "</style>\n",
              "<table border=\"1\" class=\"dataframe\">\n",
              "  <thead>\n",
              "    <tr style=\"text-align: right;\">\n",
              "      <th></th>\n",
              "      <th>count</th>\n",
              "      <th>percentage status</th>\n",
              "    </tr>\n",
              "  </thead>\n",
              "  <tbody>\n",
              "    <tr>\n",
              "      <th>200</th>\n",
              "      <td>3724</td>\n",
              "      <td>71.975261</td>\n",
              "    </tr>\n",
              "    <tr>\n",
              "      <th>404</th>\n",
              "      <td>534</td>\n",
              "      <td>10.320835</td>\n",
              "    </tr>\n",
              "    <tr>\n",
              "      <th>403</th>\n",
              "      <td>450</td>\n",
              "      <td>8.697333</td>\n",
              "    </tr>\n",
              "    <tr>\n",
              "      <th>302</th>\n",
              "      <td>243</td>\n",
              "      <td>4.696560</td>\n",
              "    </tr>\n",
              "    <tr>\n",
              "      <th>500</th>\n",
              "      <td>175</td>\n",
              "      <td>3.382296</td>\n",
              "    </tr>\n",
              "    <tr>\n",
              "      <th>499</th>\n",
              "      <td>42</td>\n",
              "      <td>0.811751</td>\n",
              "    </tr>\n",
              "    <tr>\n",
              "      <th>182</th>\n",
              "      <td>2</td>\n",
              "      <td>0.038655</td>\n",
              "    </tr>\n",
              "    <tr>\n",
              "      <th>400</th>\n",
              "      <td>2</td>\n",
              "      <td>0.038655</td>\n",
              "    </tr>\n",
              "    <tr>\n",
              "      <th>405</th>\n",
              "      <td>1</td>\n",
              "      <td>0.019327</td>\n",
              "    </tr>\n",
              "    <tr>\n",
              "      <th>301</th>\n",
              "      <td>1</td>\n",
              "      <td>0.019327</td>\n",
              "    </tr>\n",
              "  </tbody>\n",
              "</table>\n",
              "</div>"
            ],
            "text/plain": [
              "     count  percentage status\n",
              "200   3724          71.975261\n",
              "404    534          10.320835\n",
              "403    450           8.697333\n",
              "302    243           4.696560\n",
              "500    175           3.382296\n",
              "499     42           0.811751\n",
              "182      2           0.038655\n",
              "400      2           0.038655\n",
              "405      1           0.019327\n",
              "301      1           0.019327"
            ]
          },
          "metadata": {
            "tags": []
          },
          "execution_count": 36
        }
      ]
    },
    {
      "cell_type": "code",
      "metadata": {
        "id": "Z7LpWhI-B5Cm",
        "colab": {
          "base_uri": "https://localhost:8080/",
          "height": 593
        },
        "outputId": "f53a820a-428b-4080-a8a7-adcd344ccc03"
      },
      "source": [
        "#plot pie chart for the given data\n",
        "data.status.value_counts().plot.pie(figsize=(10,10))"
      ],
      "execution_count": 37,
      "outputs": [
        {
          "output_type": "execute_result",
          "data": {
            "text/plain": [
              "<matplotlib.axes._subplots.AxesSubplot at 0x7fb6217fdd50>"
            ]
          },
          "metadata": {
            "tags": []
          },
          "execution_count": 37
        },
        {
          "output_type": "display_data",
          "data": {
            "image/png": "[encoded data removed]",
            "text/plain": [
              "<Figure size 720x720 with 1 Axes>"
            ]
          },
          "metadata": {
            "tags": []
          }
        }
      ]
    }
  ]
}